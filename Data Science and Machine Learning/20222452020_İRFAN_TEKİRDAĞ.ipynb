{
  "nbformat": 4,
  "nbformat_minor": 0,
  "metadata": {
    "colab": {
      "provenance": []
    },
    "kernelspec": {
      "name": "python3",
      "display_name": "Python 3"
    },
    "language_info": {
      "name": "python"
    }
  },
  "cells": [
    {
      "cell_type": "markdown",
      "source": [
        "**Bu verisetinde havayolu şirketinin yapılan puanlamaları,derecelendirmeleriyle ilgili gerçek veriler bulunmaktadır. Bu kapsamda grafik analizi, tanımlayıcı analiz, ve makine öğrenmesine tabi tutarak model oluşturacağız.**"
      ],
      "metadata": {
        "id": "vvyzaQMIiyN-"
      }
    },
    {
      "cell_type": "code",
      "execution_count": null,
      "metadata": {
        "id": "36OHsxtM8rR8"
      },
      "outputs": [],
      "source": [
        "import seaborn as sns\n",
        "import pandas as pd\n",
        "import numpy as np\n",
        "from sklearn.model_selection import train_test_split\n",
        "from sklearn.linear_model import LogisticRegression\n",
        "from sklearn.metrics import accuracy_score\n",
        "from sklearn.impute import SimpleImputer\n",
        "import matplotlib.pyplot as plt"
      ]
    },
    {
      "cell_type": "code",
      "source": [
        "df = pd.read_csv(\"/content/Airline Quality Ratings.csv\")\n",
        "pd.set_option('display.max_columns', None)\n",
        "df.head()"
      ],
      "metadata": {
        "colab": {
          "base_uri": "https://localhost:8080/",
          "height": 296
        },
        "id": "syslENYe8xCi",
        "outputId": "f7534d82-682c-4b1f-89ab-7ed4b4ee2876"
      },
      "execution_count": null,
      "outputs": [
        {
          "output_type": "execute_result",
          "data": {
            "text/plain": [
              "   ID  Gender  Age Customer Type Type of Travel     Class  Flight Distance  \\\n",
              "0   1    Male   48    First-time       Business  Business              821   \n",
              "1   2  Female   35     Returning       Business  Business              821   \n",
              "2   3    Male   41     Returning       Business  Business              853   \n",
              "3   4    Male   50     Returning       Business  Business             1905   \n",
              "4   5  Female   49     Returning       Business  Business             3470   \n",
              "\n",
              "   Departure Delay  Arrival Delay  Departure and Arrival Time Convenience  \\\n",
              "0                2            5.0                                       3   \n",
              "1               26           39.0                                       2   \n",
              "2                0            0.0                                       4   \n",
              "3                0            0.0                                       2   \n",
              "4                0            1.0                                       3   \n",
              "\n",
              "   Ease of Online Booking  Check-in Service  Online Boarding  Gate Location  \\\n",
              "0                       3                 4                3              3   \n",
              "1                       2                 3                5              2   \n",
              "2                       4                 4                5              4   \n",
              "3                       2                 3                4              2   \n",
              "4                       3                 3                5              3   \n",
              "\n",
              "   On-board Service  Seat Comfort  Leg Room Service  Cleanliness  \\\n",
              "0                 3             5                 2            5   \n",
              "1                 5             4                 5            5   \n",
              "2                 3             5                 3            5   \n",
              "3                 5             5                 5            4   \n",
              "4                 3             4                 4            5   \n",
              "\n",
              "   Food and Drink  In-flight Service  In-flight Wifi Service  \\\n",
              "0               5                  5                       3   \n",
              "1               3                  5                       2   \n",
              "2               5                  3                       4   \n",
              "3               4                  5                       2   \n",
              "4               4                  3                       3   \n",
              "\n",
              "   In-flight Entertainment  Baggage Handling             Satisfaction  \n",
              "0                        5                 5  Neutral or Dissatisfied  \n",
              "1                        5                 5                Satisfied  \n",
              "2                        3                 3                Satisfied  \n",
              "3                        5                 5                Satisfied  \n",
              "4                        3                 3                Satisfied  "
            ],
            "text/html": [
              "\n",
              "  <div id=\"df-e52e9954-aab2-440d-b2b8-d07697864529\" class=\"colab-df-container\">\n",
              "    <div>\n",
              "<style scoped>\n",
              "    .dataframe tbody tr th:only-of-type {\n",
              "        vertical-align: middle;\n",
              "    }\n",
              "\n",
              "    .dataframe tbody tr th {\n",
              "        vertical-align: top;\n",
              "    }\n",
              "\n",
              "    .dataframe thead th {\n",
              "        text-align: right;\n",
              "    }\n",
              "</style>\n",
              "<table border=\"1\" class=\"dataframe\">\n",
              "  <thead>\n",
              "    <tr style=\"text-align: right;\">\n",
              "      <th></th>\n",
              "      <th>ID</th>\n",
              "      <th>Gender</th>\n",
              "      <th>Age</th>\n",
              "      <th>Customer Type</th>\n",
              "      <th>Type of Travel</th>\n",
              "      <th>Class</th>\n",
              "      <th>Flight Distance</th>\n",
              "      <th>Departure Delay</th>\n",
              "      <th>Arrival Delay</th>\n",
              "      <th>Departure and Arrival Time Convenience</th>\n",
              "      <th>Ease of Online Booking</th>\n",
              "      <th>Check-in Service</th>\n",
              "      <th>Online Boarding</th>\n",
              "      <th>Gate Location</th>\n",
              "      <th>On-board Service</th>\n",
              "      <th>Seat Comfort</th>\n",
              "      <th>Leg Room Service</th>\n",
              "      <th>Cleanliness</th>\n",
              "      <th>Food and Drink</th>\n",
              "      <th>In-flight Service</th>\n",
              "      <th>In-flight Wifi Service</th>\n",
              "      <th>In-flight Entertainment</th>\n",
              "      <th>Baggage Handling</th>\n",
              "      <th>Satisfaction</th>\n",
              "    </tr>\n",
              "  </thead>\n",
              "  <tbody>\n",
              "    <tr>\n",
              "      <th>0</th>\n",
              "      <td>1</td>\n",
              "      <td>Male</td>\n",
              "      <td>48</td>\n",
              "      <td>First-time</td>\n",
              "      <td>Business</td>\n",
              "      <td>Business</td>\n",
              "      <td>821</td>\n",
              "      <td>2</td>\n",
              "      <td>5.0</td>\n",
              "      <td>3</td>\n",
              "      <td>3</td>\n",
              "      <td>4</td>\n",
              "      <td>3</td>\n",
              "      <td>3</td>\n",
              "      <td>3</td>\n",
              "      <td>5</td>\n",
              "      <td>2</td>\n",
              "      <td>5</td>\n",
              "      <td>5</td>\n",
              "      <td>5</td>\n",
              "      <td>3</td>\n",
              "      <td>5</td>\n",
              "      <td>5</td>\n",
              "      <td>Neutral or Dissatisfied</td>\n",
              "    </tr>\n",
              "    <tr>\n",
              "      <th>1</th>\n",
              "      <td>2</td>\n",
              "      <td>Female</td>\n",
              "      <td>35</td>\n",
              "      <td>Returning</td>\n",
              "      <td>Business</td>\n",
              "      <td>Business</td>\n",
              "      <td>821</td>\n",
              "      <td>26</td>\n",
              "      <td>39.0</td>\n",
              "      <td>2</td>\n",
              "      <td>2</td>\n",
              "      <td>3</td>\n",
              "      <td>5</td>\n",
              "      <td>2</td>\n",
              "      <td>5</td>\n",
              "      <td>4</td>\n",
              "      <td>5</td>\n",
              "      <td>5</td>\n",
              "      <td>3</td>\n",
              "      <td>5</td>\n",
              "      <td>2</td>\n",
              "      <td>5</td>\n",
              "      <td>5</td>\n",
              "      <td>Satisfied</td>\n",
              "    </tr>\n",
              "    <tr>\n",
              "      <th>2</th>\n",
              "      <td>3</td>\n",
              "      <td>Male</td>\n",
              "      <td>41</td>\n",
              "      <td>Returning</td>\n",
              "      <td>Business</td>\n",
              "      <td>Business</td>\n",
              "      <td>853</td>\n",
              "      <td>0</td>\n",
              "      <td>0.0</td>\n",
              "      <td>4</td>\n",
              "      <td>4</td>\n",
              "      <td>4</td>\n",
              "      <td>5</td>\n",
              "      <td>4</td>\n",
              "      <td>3</td>\n",
              "      <td>5</td>\n",
              "      <td>3</td>\n",
              "      <td>5</td>\n",
              "      <td>5</td>\n",
              "      <td>3</td>\n",
              "      <td>4</td>\n",
              "      <td>3</td>\n",
              "      <td>3</td>\n",
              "      <td>Satisfied</td>\n",
              "    </tr>\n",
              "    <tr>\n",
              "      <th>3</th>\n",
              "      <td>4</td>\n",
              "      <td>Male</td>\n",
              "      <td>50</td>\n",
              "      <td>Returning</td>\n",
              "      <td>Business</td>\n",
              "      <td>Business</td>\n",
              "      <td>1905</td>\n",
              "      <td>0</td>\n",
              "      <td>0.0</td>\n",
              "      <td>2</td>\n",
              "      <td>2</td>\n",
              "      <td>3</td>\n",
              "      <td>4</td>\n",
              "      <td>2</td>\n",
              "      <td>5</td>\n",
              "      <td>5</td>\n",
              "      <td>5</td>\n",
              "      <td>4</td>\n",
              "      <td>4</td>\n",
              "      <td>5</td>\n",
              "      <td>2</td>\n",
              "      <td>5</td>\n",
              "      <td>5</td>\n",
              "      <td>Satisfied</td>\n",
              "    </tr>\n",
              "    <tr>\n",
              "      <th>4</th>\n",
              "      <td>5</td>\n",
              "      <td>Female</td>\n",
              "      <td>49</td>\n",
              "      <td>Returning</td>\n",
              "      <td>Business</td>\n",
              "      <td>Business</td>\n",
              "      <td>3470</td>\n",
              "      <td>0</td>\n",
              "      <td>1.0</td>\n",
              "      <td>3</td>\n",
              "      <td>3</td>\n",
              "      <td>3</td>\n",
              "      <td>5</td>\n",
              "      <td>3</td>\n",
              "      <td>3</td>\n",
              "      <td>4</td>\n",
              "      <td>4</td>\n",
              "      <td>5</td>\n",
              "      <td>4</td>\n",
              "      <td>3</td>\n",
              "      <td>3</td>\n",
              "      <td>3</td>\n",
              "      <td>3</td>\n",
              "      <td>Satisfied</td>\n",
              "    </tr>\n",
              "  </tbody>\n",
              "</table>\n",
              "</div>\n",
              "    <div class=\"colab-df-buttons\">\n",
              "\n",
              "  <div class=\"colab-df-container\">\n",
              "    <button class=\"colab-df-convert\" onclick=\"convertToInteractive('df-e52e9954-aab2-440d-b2b8-d07697864529')\"\n",
              "            title=\"Convert this dataframe to an interactive table.\"\n",
              "            style=\"display:none;\">\n",
              "\n",
              "  <svg xmlns=\"http://www.w3.org/2000/svg\" height=\"24px\" viewBox=\"0 -960 960 960\">\n",
              "    <path d=\"M120-120v-720h720v720H120Zm60-500h600v-160H180v160Zm220 220h160v-160H400v160Zm0 220h160v-160H400v160ZM180-400h160v-160H180v160Zm440 0h160v-160H620v160ZM180-180h160v-160H180v160Zm440 0h160v-160H620v160Z\"/>\n",
              "  </svg>\n",
              "    </button>\n",
              "\n",
              "  <style>\n",
              "    .colab-df-container {\n",
              "      display:flex;\n",
              "      gap: 12px;\n",
              "    }\n",
              "\n",
              "    .colab-df-convert {\n",
              "      background-color: #E8F0FE;\n",
              "      border: none;\n",
              "      border-radius: 50%;\n",
              "      cursor: pointer;\n",
              "      display: none;\n",
              "      fill: #1967D2;\n",
              "      height: 32px;\n",
              "      padding: 0 0 0 0;\n",
              "      width: 32px;\n",
              "    }\n",
              "\n",
              "    .colab-df-convert:hover {\n",
              "      background-color: #E2EBFA;\n",
              "      box-shadow: 0px 1px 2px rgba(60, 64, 67, 0.3), 0px 1px 3px 1px rgba(60, 64, 67, 0.15);\n",
              "      fill: #174EA6;\n",
              "    }\n",
              "\n",
              "    .colab-df-buttons div {\n",
              "      margin-bottom: 4px;\n",
              "    }\n",
              "\n",
              "    [theme=dark] .colab-df-convert {\n",
              "      background-color: #3B4455;\n",
              "      fill: #D2E3FC;\n",
              "    }\n",
              "\n",
              "    [theme=dark] .colab-df-convert:hover {\n",
              "      background-color: #434B5C;\n",
              "      box-shadow: 0px 1px 3px 1px rgba(0, 0, 0, 0.15);\n",
              "      filter: drop-shadow(0px 1px 2px rgba(0, 0, 0, 0.3));\n",
              "      fill: #FFFFFF;\n",
              "    }\n",
              "  </style>\n",
              "\n",
              "    <script>\n",
              "      const buttonEl =\n",
              "        document.querySelector('#df-e52e9954-aab2-440d-b2b8-d07697864529 button.colab-df-convert');\n",
              "      buttonEl.style.display =\n",
              "        google.colab.kernel.accessAllowed ? 'block' : 'none';\n",
              "\n",
              "      async function convertToInteractive(key) {\n",
              "        const element = document.querySelector('#df-e52e9954-aab2-440d-b2b8-d07697864529');\n",
              "        const dataTable =\n",
              "          await google.colab.kernel.invokeFunction('convertToInteractive',\n",
              "                                                    [key], {});\n",
              "        if (!dataTable) return;\n",
              "\n",
              "        const docLinkHtml = 'Like what you see? Visit the ' +\n",
              "          '<a target=\"_blank\" href=https://colab.research.google.com/notebooks/data_table.ipynb>data table notebook</a>'\n",
              "          + ' to learn more about interactive tables.';\n",
              "        element.innerHTML = '';\n",
              "        dataTable['output_type'] = 'display_data';\n",
              "        await google.colab.output.renderOutput(dataTable, element);\n",
              "        const docLink = document.createElement('div');\n",
              "        docLink.innerHTML = docLinkHtml;\n",
              "        element.appendChild(docLink);\n",
              "      }\n",
              "    </script>\n",
              "  </div>\n",
              "\n",
              "\n",
              "<div id=\"df-54451fd1-4e90-43da-ae5f-fa7d10419515\">\n",
              "  <button class=\"colab-df-quickchart\" onclick=\"quickchart('df-54451fd1-4e90-43da-ae5f-fa7d10419515')\"\n",
              "            title=\"Suggest charts\"\n",
              "            style=\"display:none;\">\n",
              "\n",
              "<svg xmlns=\"http://www.w3.org/2000/svg\" height=\"24px\"viewBox=\"0 0 24 24\"\n",
              "     width=\"24px\">\n",
              "    <g>\n",
              "        <path d=\"M19 3H5c-1.1 0-2 .9-2 2v14c0 1.1.9 2 2 2h14c1.1 0 2-.9 2-2V5c0-1.1-.9-2-2-2zM9 17H7v-7h2v7zm4 0h-2V7h2v10zm4 0h-2v-4h2v4z\"/>\n",
              "    </g>\n",
              "</svg>\n",
              "  </button>\n",
              "\n",
              "<style>\n",
              "  .colab-df-quickchart {\n",
              "      --bg-color: #E8F0FE;\n",
              "      --fill-color: #1967D2;\n",
              "      --hover-bg-color: #E2EBFA;\n",
              "      --hover-fill-color: #174EA6;\n",
              "      --disabled-fill-color: #AAA;\n",
              "      --disabled-bg-color: #DDD;\n",
              "  }\n",
              "\n",
              "  [theme=dark] .colab-df-quickchart {\n",
              "      --bg-color: #3B4455;\n",
              "      --fill-color: #D2E3FC;\n",
              "      --hover-bg-color: #434B5C;\n",
              "      --hover-fill-color: #FFFFFF;\n",
              "      --disabled-bg-color: #3B4455;\n",
              "      --disabled-fill-color: #666;\n",
              "  }\n",
              "\n",
              "  .colab-df-quickchart {\n",
              "    background-color: var(--bg-color);\n",
              "    border: none;\n",
              "    border-radius: 50%;\n",
              "    cursor: pointer;\n",
              "    display: none;\n",
              "    fill: var(--fill-color);\n",
              "    height: 32px;\n",
              "    padding: 0;\n",
              "    width: 32px;\n",
              "  }\n",
              "\n",
              "  .colab-df-quickchart:hover {\n",
              "    background-color: var(--hover-bg-color);\n",
              "    box-shadow: 0 1px 2px rgba(60, 64, 67, 0.3), 0 1px 3px 1px rgba(60, 64, 67, 0.15);\n",
              "    fill: var(--button-hover-fill-color);\n",
              "  }\n",
              "\n",
              "  .colab-df-quickchart-complete:disabled,\n",
              "  .colab-df-quickchart-complete:disabled:hover {\n",
              "    background-color: var(--disabled-bg-color);\n",
              "    fill: var(--disabled-fill-color);\n",
              "    box-shadow: none;\n",
              "  }\n",
              "\n",
              "  .colab-df-spinner {\n",
              "    border: 2px solid var(--fill-color);\n",
              "    border-color: transparent;\n",
              "    border-bottom-color: var(--fill-color);\n",
              "    animation:\n",
              "      spin 1s steps(1) infinite;\n",
              "  }\n",
              "\n",
              "  @keyframes spin {\n",
              "    0% {\n",
              "      border-color: transparent;\n",
              "      border-bottom-color: var(--fill-color);\n",
              "      border-left-color: var(--fill-color);\n",
              "    }\n",
              "    20% {\n",
              "      border-color: transparent;\n",
              "      border-left-color: var(--fill-color);\n",
              "      border-top-color: var(--fill-color);\n",
              "    }\n",
              "    30% {\n",
              "      border-color: transparent;\n",
              "      border-left-color: var(--fill-color);\n",
              "      border-top-color: var(--fill-color);\n",
              "      border-right-color: var(--fill-color);\n",
              "    }\n",
              "    40% {\n",
              "      border-color: transparent;\n",
              "      border-right-color: var(--fill-color);\n",
              "      border-top-color: var(--fill-color);\n",
              "    }\n",
              "    60% {\n",
              "      border-color: transparent;\n",
              "      border-right-color: var(--fill-color);\n",
              "    }\n",
              "    80% {\n",
              "      border-color: transparent;\n",
              "      border-right-color: var(--fill-color);\n",
              "      border-bottom-color: var(--fill-color);\n",
              "    }\n",
              "    90% {\n",
              "      border-color: transparent;\n",
              "      border-bottom-color: var(--fill-color);\n",
              "    }\n",
              "  }\n",
              "</style>\n",
              "\n",
              "  <script>\n",
              "    async function quickchart(key) {\n",
              "      const quickchartButtonEl =\n",
              "        document.querySelector('#' + key + ' button');\n",
              "      quickchartButtonEl.disabled = true;  // To prevent multiple clicks.\n",
              "      quickchartButtonEl.classList.add('colab-df-spinner');\n",
              "      try {\n",
              "        const charts = await google.colab.kernel.invokeFunction(\n",
              "            'suggestCharts', [key], {});\n",
              "      } catch (error) {\n",
              "        console.error('Error during call to suggestCharts:', error);\n",
              "      }\n",
              "      quickchartButtonEl.classList.remove('colab-df-spinner');\n",
              "      quickchartButtonEl.classList.add('colab-df-quickchart-complete');\n",
              "    }\n",
              "    (() => {\n",
              "      let quickchartButtonEl =\n",
              "        document.querySelector('#df-54451fd1-4e90-43da-ae5f-fa7d10419515 button');\n",
              "      quickchartButtonEl.style.display =\n",
              "        google.colab.kernel.accessAllowed ? 'block' : 'none';\n",
              "    })();\n",
              "  </script>\n",
              "</div>\n",
              "\n",
              "    </div>\n",
              "  </div>\n"
            ],
            "application/vnd.google.colaboratory.intrinsic+json": {
              "type": "dataframe",
              "variable_name": "df"
            }
          },
          "metadata": {},
          "execution_count": 60
        }
      ]
    },
    {
      "cell_type": "markdown",
      "source": [
        "**Tanımlayıcı (Descriptive) analiz yapıyoruz.**"
      ],
      "metadata": {
        "id": "PxCpzC3M9Ngb"
      }
    },
    {
      "cell_type": "code",
      "source": [
        "print(df.describe())\n"
      ],
      "metadata": {
        "colab": {
          "base_uri": "https://localhost:8080/"
        },
        "id": "nV-LthSz9Kvs",
        "outputId": "6aa8d217-a3e2-405a-ef16-5380d874592b"
      },
      "execution_count": null,
      "outputs": [
        {
          "output_type": "stream",
          "name": "stdout",
          "text": [
            "                  ID            Age  Flight Distance  Departure Delay  \\\n",
            "count  129880.000000  129880.000000    129880.000000    129880.000000   \n",
            "mean    64940.500000      39.427957      1190.316392        14.713713   \n",
            "std     37493.270818      15.119360       997.452477        38.071126   \n",
            "min         1.000000       7.000000        31.000000         0.000000   \n",
            "25%     32470.750000      27.000000       414.000000         0.000000   \n",
            "50%     64940.500000      40.000000       844.000000         0.000000   \n",
            "75%     97410.250000      51.000000      1744.000000        12.000000   \n",
            "max    129880.000000      85.000000      4983.000000      1592.000000   \n",
            "\n",
            "       Arrival Delay  Departure and Arrival Time Convenience  \\\n",
            "count  129487.000000                           129880.000000   \n",
            "mean       15.091129                                3.057599   \n",
            "std        38.465650                                1.526741   \n",
            "min         0.000000                                0.000000   \n",
            "25%         0.000000                                2.000000   \n",
            "50%         0.000000                                3.000000   \n",
            "75%        13.000000                                4.000000   \n",
            "max      1584.000000                                5.000000   \n",
            "\n",
            "       Ease of Online Booking  Check-in Service  Online Boarding  \\\n",
            "count           129880.000000     129880.000000    129880.000000   \n",
            "mean                 2.756876          3.306267         3.252633   \n",
            "std                  1.401740          1.266185         1.350719   \n",
            "min                  0.000000          0.000000         0.000000   \n",
            "25%                  2.000000          3.000000         2.000000   \n",
            "50%                  3.000000          3.000000         3.000000   \n",
            "75%                  4.000000          4.000000         4.000000   \n",
            "max                  5.000000          5.000000         5.000000   \n",
            "\n",
            "       Gate Location  On-board Service   Seat Comfort  Leg Room Service  \\\n",
            "count  129880.000000     129880.000000  129880.000000     129880.000000   \n",
            "mean        2.976925          3.383023       3.441361          3.350878   \n",
            "std         1.278520          1.287099       1.319289          1.316252   \n",
            "min         0.000000          0.000000       0.000000          0.000000   \n",
            "25%         2.000000          2.000000       2.000000          2.000000   \n",
            "50%         3.000000          4.000000       4.000000          4.000000   \n",
            "75%         4.000000          4.000000       5.000000          4.000000   \n",
            "max         5.000000          5.000000       5.000000          5.000000   \n",
            "\n",
            "         Cleanliness  Food and Drink  In-flight Service  \\\n",
            "count  129880.000000   129880.000000      129880.000000   \n",
            "mean        3.286326        3.204774           3.642193   \n",
            "std         1.313682        1.329933           1.176669   \n",
            "min         0.000000        0.000000           0.000000   \n",
            "25%         2.000000        2.000000           3.000000   \n",
            "50%         3.000000        3.000000           4.000000   \n",
            "75%         4.000000        4.000000           5.000000   \n",
            "max         5.000000        5.000000           5.000000   \n",
            "\n",
            "       In-flight Wifi Service  In-flight Entertainment  Baggage Handling  \n",
            "count           129880.000000            129880.000000     129880.000000  \n",
            "mean                 2.728696                 3.358077          3.632114  \n",
            "std                  1.329340                 1.334049          1.180025  \n",
            "min                  0.000000                 0.000000          1.000000  \n",
            "25%                  2.000000                 2.000000          3.000000  \n",
            "50%                  3.000000                 4.000000          4.000000  \n",
            "75%                  4.000000                 4.000000          5.000000  \n",
            "max                  5.000000                 5.000000          5.000000  \n"
          ]
        }
      ]
    },
    {
      "cell_type": "markdown",
      "source": [
        "**Kategorik Değişkenleri Analiz Ediyoruz.**"
      ],
      "metadata": {
        "id": "j8Z0qIrh93Nq"
      }
    },
    {
      "cell_type": "code",
      "source": [
        "cat_col = [col for col in df.columns if df[col].dtypes in [\"category\", \"object\"]]\n",
        "print(cat_col)"
      ],
      "metadata": {
        "colab": {
          "base_uri": "https://localhost:8080/"
        },
        "id": "1A1YdrsH97by",
        "outputId": "934bfdf2-8889-4b22-c21f-ea6cca8fb8b4"
      },
      "execution_count": null,
      "outputs": [
        {
          "output_type": "stream",
          "name": "stdout",
          "text": [
            "['Gender', 'Customer Type', 'Type of Travel', 'Class', 'Satisfaction']\n"
          ]
        }
      ]
    },
    {
      "cell_type": "markdown",
      "source": [
        "**Sayısal Değişkenleri Analiz Ediyoruz**\n"
      ],
      "metadata": {
        "id": "GU638T7i-lm4"
      }
    },
    {
      "cell_type": "code",
      "source": [
        "num_col = [col for col in df.columns if df[col].dtypes in [\"int64\",\"float64\"]]\n",
        "print(num_col)"
      ],
      "metadata": {
        "colab": {
          "base_uri": "https://localhost:8080/"
        },
        "id": "DvTTuzCJ-iXd",
        "outputId": "8483d508-c8cf-44c8-c98b-4744732776ba"
      },
      "execution_count": null,
      "outputs": [
        {
          "output_type": "stream",
          "name": "stdout",
          "text": [
            "['ID', 'Age', 'Flight Distance', 'Departure Delay', 'Arrival Delay', 'Departure and Arrival Time Convenience', 'Ease of Online Booking', 'Check-in Service', 'Online Boarding', 'Gate Location', 'On-board Service', 'Seat Comfort', 'Leg Room Service', 'Cleanliness', 'Food and Drink', 'In-flight Service', 'In-flight Wifi Service', 'In-flight Entertainment', 'Baggage Handling']\n"
          ]
        }
      ]
    },
    {
      "cell_type": "markdown",
      "source": [
        "**Yüksek kardinaliteli sütunlar, benzersiz değer sayısı (kardinalite) yüksek olan sütunlardır.**"
      ],
      "metadata": {
        "id": "aS3JSb-sBeiY"
      }
    },
    {
      "cell_type": "code",
      "source": [
        "#Kardinalitisi Yüksek Değişken Analizi\n",
        "cat_but_cat = [col for col in df.columns if df[col].nunique()>10 and df[col].dtypes in [\"category\",\"object\",\"bool\",\"int64\"]]\n",
        "print(cat_but_cat)"
      ],
      "metadata": {
        "colab": {
          "base_uri": "https://localhost:8080/"
        },
        "id": "8dOs9oCmB5aX",
        "outputId": "b11f8c88-49d3-4bb8-fdef-e092d8434050"
      },
      "execution_count": null,
      "outputs": [
        {
          "output_type": "stream",
          "name": "stdout",
          "text": [
            "['ID', 'Age', 'Flight Distance', 'Departure Delay']\n"
          ]
        }
      ]
    },
    {
      "cell_type": "markdown",
      "source": [
        "**BOŞLUK (MISSING VALUE) DEĞER ANALİZİ**"
      ],
      "metadata": {
        "id": "LnDCk9_z_m6-"
      }
    },
    {
      "cell_type": "code",
      "source": [
        "print(df.isnull().sum())"
      ],
      "metadata": {
        "colab": {
          "base_uri": "https://localhost:8080/"
        },
        "id": "DiyZL-v__X1h",
        "outputId": "0bfe8921-272e-48da-fb4e-400d39937ede"
      },
      "execution_count": null,
      "outputs": [
        {
          "output_type": "stream",
          "name": "stdout",
          "text": [
            "ID                                          0\n",
            "Gender                                      0\n",
            "Age                                         0\n",
            "Customer Type                               0\n",
            "Type of Travel                              0\n",
            "Class                                       0\n",
            "Flight Distance                             0\n",
            "Departure Delay                             0\n",
            "Arrival Delay                             393\n",
            "Departure and Arrival Time Convenience      0\n",
            "Ease of Online Booking                      0\n",
            "Check-in Service                            0\n",
            "Online Boarding                             0\n",
            "Gate Location                               0\n",
            "On-board Service                            0\n",
            "Seat Comfort                                0\n",
            "Leg Room Service                            0\n",
            "Cleanliness                                 0\n",
            "Food and Drink                              0\n",
            "In-flight Service                           0\n",
            "In-flight Wifi Service                      0\n",
            "In-flight Entertainment                     0\n",
            "Baggage Handling                            0\n",
            "Satisfaction                                0\n",
            "dtype: int64\n"
          ]
        }
      ]
    },
    {
      "cell_type": "markdown",
      "source": [
        "**Arrival Delay sütunundaki boş verilerir ortalama ile dolduruyoruz**"
      ],
      "metadata": {
        "id": "2xgm1RQAAMkI"
      }
    },
    {
      "cell_type": "code",
      "source": [
        "imputer = SimpleImputer(strategy=\"mean\")\n",
        "data= [\"Arrival Delay\"]\n",
        "df[data]= imputer.fit_transform(df[data])\n",
        "\n",
        "print(\"Boşluklar ortalama ile dolduruldu\")"
      ],
      "metadata": {
        "colab": {
          "base_uri": "https://localhost:8080/"
        },
        "id": "IYNoJGUWANB1",
        "outputId": "408c2876-cf1b-4640-81b0-ea45e117da05"
      },
      "execution_count": null,
      "outputs": [
        {
          "output_type": "stream",
          "name": "stdout",
          "text": [
            "Boşluklar ortalama ile dolduruldu\n"
          ]
        }
      ]
    },
    {
      "cell_type": "markdown",
      "source": [
        "**Aykırı Değer Analizi**"
      ],
      "metadata": {
        "id": "eD4z9uVV-LXy"
      }
    },
    {
      "cell_type": "code",
      "source": [
        "def remove_outlier(df,column):\n",
        "  Q1 = df[column].quantile(0.25)\n",
        "  Q3 = df[column].quantile(0.75)\n",
        "  IQR = Q3-Q1\n",
        "  low = Q1-1.5*IQR\n",
        "  up = Q3+1.5*IQR\n",
        "  kosul = ((df[column]>=low) & (df[column]<=up))\n",
        "  clear_df = df[kosul]\n",
        "  return clear_df\n"
      ],
      "metadata": {
        "id": "-RA_Np2L-QeV"
      },
      "execution_count": null,
      "outputs": []
    },
    {
      "cell_type": "code",
      "source": [
        "for col in num_col:\n",
        "    df=remove_outlier(df,col)\n",
        "\n",
        "print(\"Aykırılar Temizlendi\")"
      ],
      "metadata": {
        "colab": {
          "base_uri": "https://localhost:8080/"
        },
        "id": "5bmgdOgu-ZvW",
        "outputId": "58bbfd32-5cd2-40f3-8488-f1022674ac3b"
      },
      "execution_count": null,
      "outputs": [
        {
          "output_type": "stream",
          "name": "stdout",
          "text": [
            "Aykırılar Temizlendi\n"
          ]
        }
      ]
    },
    {
      "cell_type": "markdown",
      "source": [
        "**Aykırı Değer Temizliğinden sonra bir daha tanımlayıcı analiz yapıyoruz**"
      ],
      "metadata": {
        "id": "IjAa-NSV_NiW"
      }
    },
    {
      "cell_type": "code",
      "source": [
        "print(df.describe().T)"
      ],
      "metadata": {
        "colab": {
          "base_uri": "https://localhost:8080/"
        },
        "id": "thq4PShn_U3G",
        "outputId": "c7eba933-d517-4735-e920-4685074d6de9"
      },
      "execution_count": null,
      "outputs": [
        {
          "output_type": "stream",
          "name": "stdout",
          "text": [
            "                                          count          mean           std  \\\n",
            "ID                                      74418.0  66710.743140  37247.772405   \n",
            "Age                                     74418.0     39.664839     14.995108   \n",
            "Flight Distance                         74418.0   1172.782445    942.476166   \n",
            "Departure Delay                         74418.0      2.205219      4.901686   \n",
            "Arrival Delay                           74418.0      1.356621      2.929913   \n",
            "Departure and Arrival Time Convenience  74418.0      3.120441      1.543548   \n",
            "Ease of Online Booking                  74418.0      2.779354      1.413353   \n",
            "Check-in Service                        74418.0      3.688328      0.975237   \n",
            "Online Boarding                         74418.0      3.363205      1.360693   \n",
            "Gate Location                           74418.0      2.952498      1.297633   \n",
            "On-board Service                        74418.0      3.760811      1.004876   \n",
            "Seat Comfort                            74418.0      3.536483      1.313966   \n",
            "Leg Room Service                        74418.0      3.485528      1.260557   \n",
            "Cleanliness                             74418.0      3.373310      1.295140   \n",
            "Food and Drink                          74418.0      3.257720      1.317636   \n",
            "In-flight Service                       74418.0      3.873996      1.060878   \n",
            "In-flight Wifi Service                  74418.0      2.791045      1.355472   \n",
            "In-flight Entertainment                 74418.0      3.511731      1.274484   \n",
            "Baggage Handling                        74418.0      3.841678      1.083644   \n",
            "\n",
            "                                         min       25%      50%       75%  \\\n",
            "ID                                       1.0  34784.25  68250.5  97930.75   \n",
            "Age                                      7.0     27.00     40.0     51.00   \n",
            "Flight Distance                         31.0    414.00    859.0   1744.00   \n",
            "Departure Delay                          0.0      0.00      0.0      1.00   \n",
            "Arrival Delay                            0.0      0.00      0.0      0.00   \n",
            "Departure and Arrival Time Convenience   0.0      2.00      3.0      4.00   \n",
            "Ease of Online Booking                   0.0      2.00      3.0      4.00   \n",
            "Check-in Service                         2.0      3.00      4.0      4.00   \n",
            "Online Boarding                          0.0      2.00      4.0      4.00   \n",
            "Gate Location                            1.0      2.00      3.0      4.00   \n",
            "On-board Service                         2.0      3.00      4.0      5.00   \n",
            "Seat Comfort                             1.0      3.00      4.0      5.00   \n",
            "Leg Room Service                         0.0      2.00      4.0      5.00   \n",
            "Cleanliness                              0.0      2.00      4.0      4.00   \n",
            "Food and Drink                           0.0      2.00      3.0      4.00   \n",
            "In-flight Service                        1.0      3.00      4.0      5.00   \n",
            "In-flight Wifi Service                   0.0      2.00      3.0      4.00   \n",
            "In-flight Entertainment                  0.0      3.00      4.0      5.00   \n",
            "Baggage Handling                         1.0      3.00      4.0      5.00   \n",
            "\n",
            "                                             max  \n",
            "ID                                      129880.0  \n",
            "Age                                         85.0  \n",
            "Flight Distance                           3739.0  \n",
            "Departure Delay                             30.0  \n",
            "Arrival Delay                               12.0  \n",
            "Departure and Arrival Time Convenience       5.0  \n",
            "Ease of Online Booking                       5.0  \n",
            "Check-in Service                             5.0  \n",
            "Online Boarding                              5.0  \n",
            "Gate Location                                5.0  \n",
            "On-board Service                             5.0  \n",
            "Seat Comfort                                 5.0  \n",
            "Leg Room Service                             5.0  \n",
            "Cleanliness                                  5.0  \n",
            "Food and Drink                               5.0  \n",
            "In-flight Service                            5.0  \n",
            "In-flight Wifi Service                       5.0  \n",
            "In-flight Entertainment                      5.0  \n",
            "Baggage Handling                             5.0  \n"
          ]
        }
      ]
    },
    {
      "cell_type": "markdown",
      "source": [
        "**Aykırı Değer temizlendikten sonra birdaha boşluk analizi yapıyoruz**"
      ],
      "metadata": {
        "id": "3CbOks8x_Yfa"
      }
    },
    {
      "cell_type": "code",
      "source": [
        "print(df.isnull().sum())"
      ],
      "metadata": {
        "colab": {
          "base_uri": "https://localhost:8080/"
        },
        "id": "cNkmdja5_4Zx",
        "outputId": "a92bb4ee-f1f7-4232-b185-c0d6bee5b3e7"
      },
      "execution_count": null,
      "outputs": [
        {
          "output_type": "stream",
          "name": "stdout",
          "text": [
            "ID                                        0\n",
            "Gender                                    0\n",
            "Age                                       0\n",
            "Customer Type                             0\n",
            "Type of Travel                            0\n",
            "Class                                     0\n",
            "Flight Distance                           0\n",
            "Departure Delay                           0\n",
            "Arrival Delay                             0\n",
            "Departure and Arrival Time Convenience    0\n",
            "Ease of Online Booking                    0\n",
            "Check-in Service                          0\n",
            "Online Boarding                           0\n",
            "Gate Location                             0\n",
            "On-board Service                          0\n",
            "Seat Comfort                              0\n",
            "Leg Room Service                          0\n",
            "Cleanliness                               0\n",
            "Food and Drink                            0\n",
            "In-flight Service                         0\n",
            "In-flight Wifi Service                    0\n",
            "In-flight Entertainment                   0\n",
            "Baggage Handling                          0\n",
            "Satisfaction                              0\n",
            "dtype: int64\n"
          ]
        }
      ]
    },
    {
      "cell_type": "markdown",
      "source": [
        "**VERİ GÖRSELLEŞTİRME**"
      ],
      "metadata": {
        "id": "Lp67eYAjApmw"
      }
    },
    {
      "cell_type": "code",
      "source": [
        "sns.barplot(x='Customer Type', y='Flight Distance', data=df)\n",
        "plt.title('Müşteri Türüne Göre Uçuş Mesafesi')\n",
        "plt.xlabel(\"Müşteri Türü\")\n",
        "plt.ylabel(\"Uçuş Mesafesi\")\n",
        "plt.show()"
      ],
      "metadata": {
        "colab": {
          "base_uri": "https://localhost:8080/",
          "height": 472
        },
        "id": "Q9u7X4gAACSm",
        "outputId": "fa55d52c-6524-465d-d298-4cc0d39aec6e"
      },
      "execution_count": null,
      "outputs": [
        {
          "output_type": "display_data",
          "data": {
            "text/plain": [
              "<Figure size 640x480 with 1 Axes>"
            ],
            "image/png": "[encoded data removed]"
          },
          "metadata": {}
        }
      ]
    },
    {
      "cell_type": "markdown",
      "source": [
        "İlk defa seyahat edenler, daha fazla seyahet edenlere göre daha kısa mesafe uçuş tercihinde bulunmuşlardır."
      ],
      "metadata": {
        "id": "j7l_whqyE3M3"
      }
    },
    {
      "cell_type": "code",
      "source": [
        "sns.boxplot(x='Class', y='Age', data=df)\n",
        "plt.title('Sınıf ve Yaş İlişkisi')\n",
        "plt.xlabel(\"Sınıf\")\n",
        "plt.ylabel(\"Yaş\")\n",
        "plt.show()"
      ],
      "metadata": {
        "colab": {
          "base_uri": "https://localhost:8080/",
          "height": 474
        },
        "id": "WsEou_RDAzZ0",
        "outputId": "c0c1ee63-39f1-4bc5-9e7b-ce005e0446f5"
      },
      "execution_count": null,
      "outputs": [
        {
          "output_type": "display_data",
          "data": {
            "text/plain": [
              "<Figure size 640x480 with 1 Axes>"
            ],
            "image/png": "[encoded data removed]"
          },
          "metadata": {}
        }
      ]
    },
    {
      "cell_type": "markdown",
      "source": [
        "Business sınıfında uçuş yapan insanlar genellikle daha yaşca olgun insanlar.\n",
        "Economy sınıfı daha genel kesime hitap eden bir sınıf.\n",
        "Economy Plus sınıfı ise Economy sınıfına göre biraz daha yaşca olgun insanların uçuş yaptığı sınıf olmuş."
      ],
      "metadata": {
        "id": "MmnAwVLNFOkQ"
      }
    },
    {
      "cell_type": "code",
      "source": [
        "sns.countplot(x='Type of Travel', hue='Gender', data=df)\n",
        "plt.title('Seyahat Türü ve Cinsiyet Dağılımı')\n",
        "plt.xlabel(\"Seyahat Türü\")\n",
        "plt.ylabel(\"Cinsiyet Dağılımı\")\n",
        "plt.show()"
      ],
      "metadata": {
        "colab": {
          "base_uri": "https://localhost:8080/",
          "height": 472
        },
        "id": "F3wCiYGVA13w",
        "outputId": "6b75a8c6-13e8-401f-d6de-6afcfa56ff83"
      },
      "execution_count": null,
      "outputs": [
        {
          "output_type": "display_data",
          "data": {
            "text/plain": [
              "<Figure size 640x480 with 1 Axes>"
            ],
            "image/png": "[encoded data removed]"
          },
          "metadata": {}
        }
      ]
    },
    {
      "cell_type": "markdown",
      "source": [
        "Genel olarak grafiğe baktığımızda uçuşların büyük kısmı iş için yapılan uçuşlar olduğunu görüyoruz. İş için yapılan uçuşlarda kadın yolcularımız erkeklere göre daha fazladır. Kişisel seyahet için yapılan uçuşlarda ise erkek yolcularımız kadın yolcularımıza göre daha fazladır."
      ],
      "metadata": {
        "id": "2KQPJ70AFvj5"
      }
    },
    {
      "cell_type": "code",
      "source": [
        "sns.countplot(x='Customer Type', hue='Satisfaction', data=df)\n",
        "plt.title('Müşteri Türüne Göre Memnuniyet Dağılımı')\n",
        "plt.xlabel(\"Müşteri Tipi\")\n",
        "plt.ylabel(\"Memnuniyet\")\n",
        "plt.show()"
      ],
      "metadata": {
        "colab": {
          "base_uri": "https://localhost:8080/",
          "height": 472
        },
        "id": "PX1nSGktA4HN",
        "outputId": "b097a26c-be06-423c-a19a-345674c355fb"
      },
      "execution_count": null,
      "outputs": [
        {
          "output_type": "display_data",
          "data": {
            "text/plain": [
              "<Figure size 640x480 with 1 Axes>"
            ],
            "image/png": "[encoded data removed]"
          },
          "metadata": {}
        }
      ]
    },
    {
      "cell_type": "markdown",
      "source": [
        "İlk defa uçak seyaheti yapan yolcular genellikle nötr ya da memnun olmadan ayrılmışlardır. Bir daha yolculuk yaptıklarında bu durum tersine dönmüş memnun kalan yolcular daha fazladır."
      ],
      "metadata": {
        "id": "O7z-jHI2GGuY"
      }
    },
    {
      "cell_type": "markdown",
      "source": [
        "**KATEGORİK DEĞİŞKENLERİN İÇERİKLERİNE BAKIYORUZ**"
      ],
      "metadata": {
        "id": "KHZM9q2GBBRW"
      }
    },
    {
      "cell_type": "code",
      "source": [
        "print(df.info())"
      ],
      "metadata": {
        "colab": {
          "base_uri": "https://localhost:8080/"
        },
        "id": "1_FI-Nvyz1la",
        "outputId": "d06deb27-4bed-41c4-971d-a0ae96e9fc45"
      },
      "execution_count": null,
      "outputs": [
        {
          "output_type": "stream",
          "name": "stdout",
          "text": [
            "<class 'pandas.core.frame.DataFrame'>\n",
            "Index: 74418 entries, 0 to 129879\n",
            "Data columns (total 24 columns):\n",
            " #   Column                                  Non-Null Count  Dtype  \n",
            "---  ------                                  --------------  -----  \n",
            " 0   ID                                      74418 non-null  int64  \n",
            " 1   Gender                                  74418 non-null  object \n",
            " 2   Age                                     74418 non-null  int64  \n",
            " 3   Customer Type                           74418 non-null  object \n",
            " 4   Type of Travel                          74418 non-null  object \n",
            " 5   Class                                   74418 non-null  object \n",
            " 6   Flight Distance                         74418 non-null  int64  \n",
            " 7   Departure Delay                         74418 non-null  int64  \n",
            " 8   Arrival Delay                           74418 non-null  float64\n",
            " 9   Departure and Arrival Time Convenience  74418 non-null  int64  \n",
            " 10  Ease of Online Booking                  74418 non-null  int64  \n",
            " 11  Check-in Service                        74418 non-null  int64  \n",
            " 12  Online Boarding                         74418 non-null  int64  \n",
            " 13  Gate Location                           74418 non-null  int64  \n",
            " 14  On-board Service                        74418 non-null  int64  \n",
            " 15  Seat Comfort                            74418 non-null  int64  \n",
            " 16  Leg Room Service                        74418 non-null  int64  \n",
            " 17  Cleanliness                             74418 non-null  int64  \n",
            " 18  Food and Drink                          74418 non-null  int64  \n",
            " 19  In-flight Service                       74418 non-null  int64  \n",
            " 20  In-flight Wifi Service                  74418 non-null  int64  \n",
            " 21  In-flight Entertainment                 74418 non-null  int64  \n",
            " 22  Baggage Handling                        74418 non-null  int64  \n",
            " 23  Satisfaction                            74418 non-null  object \n",
            "dtypes: float64(1), int64(18), object(5)\n",
            "memory usage: 14.2+ MB\n",
            "None\n"
          ]
        }
      ]
    },
    {
      "cell_type": "code",
      "source": [
        "print(df[\"Gender\"].value_counts())\n",
        "print(df[\"Customer Type\"].value_counts())\n",
        "print(df[\"Type of Travel\"].value_counts())\n",
        "print(df[\"Class\"].value_counts())\n",
        "print(df[\"Satisfaction\"].value_counts())"
      ],
      "metadata": {
        "colab": {
          "base_uri": "https://localhost:8080/"
        },
        "id": "wIINURYTBKhG",
        "outputId": "d2ab3b9f-6476-4dc0-90d8-14d89c008d0f"
      },
      "execution_count": null,
      "outputs": [
        {
          "output_type": "stream",
          "name": "stdout",
          "text": [
            "Gender\n",
            "Female    37701\n",
            "Male      36717\n",
            "Name: count, dtype: int64\n",
            "Customer Type\n",
            "Returning     60966\n",
            "First-time    13452\n",
            "Name: count, dtype: int64\n",
            "Type of Travel\n",
            "Business    51236\n",
            "Personal    23182\n",
            "Name: count, dtype: int64\n",
            "Class\n",
            "Business        38800\n",
            "Economy         30886\n",
            "Economy Plus     4732\n",
            "Name: count, dtype: int64\n",
            "Satisfaction\n",
            "Satisfied                  37694\n",
            "Neutral or Dissatisfied    36724\n",
            "Name: count, dtype: int64\n"
          ]
        }
      ]
    },
    {
      "cell_type": "markdown",
      "source": [
        "**kategorik değişkenleri numeric değişkenlere dönüştürmemiz gerekiyor çünkü verisetimiz makine öğrenmesine uygun bir halde olmalı.**"
      ],
      "metadata": {
        "id": "vCmYPFovBPnZ"
      }
    },
    {
      "cell_type": "code",
      "source": [
        "df[\"Gender\"] = df[\"Gender\"].map({\"Female\":0,\"Male\":1})\n",
        "df[\"Customer Type\"] = df[\"Customer Type\"].map({\"Returning\":0,\"First-time\":1})\n",
        "df[\"Type of Travel\"] = df[\"Type of Travel\"].map({\"Business\":0,\"Personal\":1})\n",
        "df[\"Class\"] = df[\"Class\"].map({\"Business\":0,\"Economy\":1,\"Economy Plus\":2})\n",
        "df[\"Satisfaction\"] = df[\"Satisfaction\"].map({\"Neutral or Dissatisfied\":0,\"Satisfied\":1})\n",
        "\n",
        "print(df.info())"
      ],
      "metadata": {
        "colab": {
          "base_uri": "https://localhost:8080/"
        },
        "id": "b54HO1h3Bbiu",
        "outputId": "20d67db5-aa59-4b26-bc1d-c3915bc0a299"
      },
      "execution_count": null,
      "outputs": [
        {
          "output_type": "stream",
          "name": "stdout",
          "text": [
            "<class 'pandas.core.frame.DataFrame'>\n",
            "Index: 74418 entries, 0 to 129879\n",
            "Data columns (total 24 columns):\n",
            " #   Column                                  Non-Null Count  Dtype  \n",
            "---  ------                                  --------------  -----  \n",
            " 0   ID                                      74418 non-null  int64  \n",
            " 1   Gender                                  74418 non-null  int64  \n",
            " 2   Age                                     74418 non-null  int64  \n",
            " 3   Customer Type                           74418 non-null  int64  \n",
            " 4   Type of Travel                          74418 non-null  int64  \n",
            " 5   Class                                   74418 non-null  int64  \n",
            " 6   Flight Distance                         74418 non-null  int64  \n",
            " 7   Departure Delay                         74418 non-null  int64  \n",
            " 8   Arrival Delay                           74418 non-null  float64\n",
            " 9   Departure and Arrival Time Convenience  74418 non-null  int64  \n",
            " 10  Ease of Online Booking                  74418 non-null  int64  \n",
            " 11  Check-in Service                        74418 non-null  int64  \n",
            " 12  Online Boarding                         74418 non-null  int64  \n",
            " 13  Gate Location                           74418 non-null  int64  \n",
            " 14  On-board Service                        74418 non-null  int64  \n",
            " 15  Seat Comfort                            74418 non-null  int64  \n",
            " 16  Leg Room Service                        74418 non-null  int64  \n",
            " 17  Cleanliness                             74418 non-null  int64  \n",
            " 18  Food and Drink                          74418 non-null  int64  \n",
            " 19  In-flight Service                       74418 non-null  int64  \n",
            " 20  In-flight Wifi Service                  74418 non-null  int64  \n",
            " 21  In-flight Entertainment                 74418 non-null  int64  \n",
            " 22  Baggage Handling                        74418 non-null  int64  \n",
            " 23  Satisfaction                            74418 non-null  int64  \n",
            "dtypes: float64(1), int64(23)\n",
            "memory usage: 14.2 MB\n",
            "None\n"
          ]
        }
      ]
    },
    {
      "cell_type": "markdown",
      "source": [
        "**Makine öğrenimi modelleri için özellik matrisi (X) ile hedef değişkeni (y) oluşturmak amacıyla kullanılır.**"
      ],
      "metadata": {
        "id": "T8eQZGvtGxfa"
      }
    },
    {
      "cell_type": "code",
      "source": [
        "y = df[\"Type of Travel\"]\n",
        "X = df.drop(\"Type of Travel\",axis=1)"
      ],
      "metadata": {
        "id": "KUV198sGCDBi"
      },
      "execution_count": null,
      "outputs": []
    },
    {
      "cell_type": "markdown",
      "source": [
        "**Makine Öğrenmesi için verisetimizi parçaladık**"
      ],
      "metadata": {
        "id": "geSn6rXwG7VO"
      }
    },
    {
      "cell_type": "code",
      "source": [
        "X_train, X_test, y_train, y_test = train_test_split(X,y,test_size=0.3,random_state=42)"
      ],
      "metadata": {
        "id": "1mUv_ox5CF6y"
      },
      "execution_count": null,
      "outputs": []
    },
    {
      "cell_type": "markdown",
      "source": [
        "**Burda X matrisinin ne kadar büyüklükte olduğu öğrenme için ne kadar ayırdığımızı ve test için ne kadar ayırdığımızı görüyoruz**"
      ],
      "metadata": {
        "id": "DsIHRrGph7_h"
      }
    },
    {
      "cell_type": "code",
      "source": [
        "X.shape,X_train.shape,X_test.shape"
      ],
      "metadata": {
        "colab": {
          "base_uri": "https://localhost:8080/"
        },
        "id": "KHeKzGj0h8IP",
        "outputId": "a6c07b4c-b95e-49a0-ed89-cfe49b35df95"
      },
      "execution_count": null,
      "outputs": [
        {
          "output_type": "execute_result",
          "data": {
            "text/plain": [
              "((74418, 23), (52092, 23), (22326, 23))"
            ]
          },
          "metadata": {},
          "execution_count": 80
        }
      ]
    },
    {
      "cell_type": "markdown",
      "source": [
        "**Burada modelimizi seçtik kaç kere öğrenmesi gerektiğini söyledik ve bir sorunla karşılaşırsa nasıl çözeceğini söyledik sonrasında model.fit yöntemiyle öğrettik.**"
      ],
      "metadata": {
        "id": "swUP3NYFiBU_"
      }
    },
    {
      "cell_type": "code",
      "source": [
        "model = LogisticRegression(max_iter=10000,solver=\"lbfgs\")"
      ],
      "metadata": {
        "id": "3FtkJokhiBiP"
      },
      "execution_count": null,
      "outputs": []
    },
    {
      "cell_type": "code",
      "source": [
        "model.fit(X_train,y_train)"
      ],
      "metadata": {
        "colab": {
          "base_uri": "https://localhost:8080/",
          "height": 75
        },
        "id": "KBAoEO3MiIs2",
        "outputId": "b7c2ecee-7d60-43be-d079-981e93123728"
      },
      "execution_count": null,
      "outputs": [
        {
          "output_type": "execute_result",
          "data": {
            "text/plain": [
              "LogisticRegression(max_iter=10000)"
            ],
            "text/html": [
              "<style>#sk-container-id-3 {color: black;background-color: white;}#sk-container-id-3 pre{padding: 0;}#sk-container-id-3 div.sk-toggleable {background-color: white;}#sk-container-id-3 label.sk-toggleable__label {cursor: pointer;display: block;width: 100%;margin-bottom: 0;padding: 0.3em;box-sizing: border-box;text-align: center;}#sk-container-id-3 label.sk-toggleable__label-arrow:before {content: \"▸\";float: left;margin-right: 0.25em;color: #696969;}#sk-container-id-3 label.sk-toggleable__label-arrow:hover:before {color: black;}#sk-container-id-3 div.sk-estimator:hover label.sk-toggleable__label-arrow:before {color: black;}#sk-container-id-3 div.sk-toggleable__content {max-height: 0;max-width: 0;overflow: hidden;text-align: left;background-color: #f0f8ff;}#sk-container-id-3 div.sk-toggleable__content pre {margin: 0.2em;color: black;border-radius: 0.25em;background-color: #f0f8ff;}#sk-container-id-3 input.sk-toggleable__control:checked~div.sk-toggleable__content {max-height: 200px;max-width: 100%;overflow: auto;}#sk-container-id-3 input.sk-toggleable__control:checked~label.sk-toggleable__label-arrow:before {content: \"▾\";}#sk-container-id-3 div.sk-estimator input.sk-toggleable__control:checked~label.sk-toggleable__label {background-color: #d4ebff;}#sk-container-id-3 div.sk-label input.sk-toggleable__control:checked~label.sk-toggleable__label {background-color: #d4ebff;}#sk-container-id-3 input.sk-hidden--visually {border: 0;clip: rect(1px 1px 1px 1px);clip: rect(1px, 1px, 1px, 1px);height: 1px;margin: -1px;overflow: hidden;padding: 0;position: absolute;width: 1px;}#sk-container-id-3 div.sk-estimator {font-family: monospace;background-color: #f0f8ff;border: 1px dotted black;border-radius: 0.25em;box-sizing: border-box;margin-bottom: 0.5em;}#sk-container-id-3 div.sk-estimator:hover {background-color: #d4ebff;}#sk-container-id-3 div.sk-parallel-item::after {content: \"\";width: 100%;border-bottom: 1px solid gray;flex-grow: 1;}#sk-container-id-3 div.sk-label:hover label.sk-toggleable__label {background-color: #d4ebff;}#sk-container-id-3 div.sk-serial::before {content: \"\";position: absolute;border-left: 1px solid gray;box-sizing: border-box;top: 0;bottom: 0;left: 50%;z-index: 0;}#sk-container-id-3 div.sk-serial {display: flex;flex-direction: column;align-items: center;background-color: white;padding-right: 0.2em;padding-left: 0.2em;position: relative;}#sk-container-id-3 div.sk-item {position: relative;z-index: 1;}#sk-container-id-3 div.sk-parallel {display: flex;align-items: stretch;justify-content: center;background-color: white;position: relative;}#sk-container-id-3 div.sk-item::before, #sk-container-id-3 div.sk-parallel-item::before {content: \"\";position: absolute;border-left: 1px solid gray;box-sizing: border-box;top: 0;bottom: 0;left: 50%;z-index: -1;}#sk-container-id-3 div.sk-parallel-item {display: flex;flex-direction: column;z-index: 1;position: relative;background-color: white;}#sk-container-id-3 div.sk-parallel-item:first-child::after {align-self: flex-end;width: 50%;}#sk-container-id-3 div.sk-parallel-item:last-child::after {align-self: flex-start;width: 50%;}#sk-container-id-3 div.sk-parallel-item:only-child::after {width: 0;}#sk-container-id-3 div.sk-dashed-wrapped {border: 1px dashed gray;margin: 0 0.4em 0.5em 0.4em;box-sizing: border-box;padding-bottom: 0.4em;background-color: white;}#sk-container-id-3 div.sk-label label {font-family: monospace;font-weight: bold;display: inline-block;line-height: 1.2em;}#sk-container-id-3 div.sk-label-container {text-align: center;}#sk-container-id-3 div.sk-container {/* jupyter's `normalize.less` sets `[hidden] { display: none; }` but bootstrap.min.css set `[hidden] { display: none !important; }` so we also need the `!important` here to be able to override the default hidden behavior on the sphinx rendered scikit-learn.org. See: https://github.com/scikit-learn/scikit-learn/issues/21755 */display: inline-block !important;position: relative;}#sk-container-id-3 div.sk-text-repr-fallback {display: none;}</style><div id=\"sk-container-id-3\" class=\"sk-top-container\"><div class=\"sk-text-repr-fallback\"><pre>LogisticRegression(max_iter=10000)</pre><b>In a Jupyter environment, please rerun this cell to show the HTML representation or trust the notebook. <br />On GitHub, the HTML representation is unable to render, please try loading this page with nbviewer.org.</b></div><div class=\"sk-container\" hidden><div class=\"sk-item\"><div class=\"sk-estimator sk-toggleable\"><input class=\"sk-toggleable__control sk-hidden--visually\" id=\"sk-estimator-id-3\" type=\"checkbox\" checked><label for=\"sk-estimator-id-3\" class=\"sk-toggleable__label sk-toggleable__label-arrow\">LogisticRegression</label><div class=\"sk-toggleable__content\"><pre>LogisticRegression(max_iter=10000)</pre></div></div></div></div></div>"
            ]
          },
          "metadata": {},
          "execution_count": 82
        }
      ]
    },
    {
      "cell_type": "code",
      "source": [
        "y_pred = model.predict(X_test)"
      ],
      "metadata": {
        "id": "hHtPnYvZiMHt"
      },
      "execution_count": null,
      "outputs": []
    },
    {
      "cell_type": "code",
      "source": [
        "model_performansı= accuracy_score(y_test,y_pred)"
      ],
      "metadata": {
        "id": "VkUL8dJWiN6H"
      },
      "execution_count": null,
      "outputs": []
    },
    {
      "cell_type": "code",
      "source": [
        "print(\"Model Performansı:\",model_performansı)"
      ],
      "metadata": {
        "colab": {
          "base_uri": "https://localhost:8080/"
        },
        "id": "EqnpGkf_iQGZ",
        "outputId": "5b680f8b-5870-408e-ecd0-2bae23934f31"
      },
      "execution_count": null,
      "outputs": [
        {
          "output_type": "stream",
          "name": "stdout",
          "text": [
            "Model Performansı: 0.7816447191615157\n"
          ]
        }
      ]
    },
    {
      "cell_type": "markdown",
      "source": [
        "**Test etmek için train kısmında kullanılan sütunlara baktık ve ona göre bir örnek yapısı oluşturucaz.**"
      ],
      "metadata": {
        "id": "LOwpw0K_iSMX"
      }
    },
    {
      "cell_type": "code",
      "source": [
        "print(\"Eğitimde kullanılan özelliklerin isimleri:\", X_train.columns)"
      ],
      "metadata": {
        "colab": {
          "base_uri": "https://localhost:8080/"
        },
        "id": "luA6E30QiTMR",
        "outputId": "f3964cad-31a4-4b53-da4e-0f537786f907"
      },
      "execution_count": null,
      "outputs": [
        {
          "output_type": "stream",
          "name": "stdout",
          "text": [
            "Eğitimde kullanılan özelliklerin isimleri: Index(['ID', 'Gender', 'Age', 'Customer Type', 'Class', 'Flight Distance',\n",
            "       'Departure Delay', 'Arrival Delay',\n",
            "       'Departure and Arrival Time Convenience', 'Ease of Online Booking',\n",
            "       'Check-in Service', 'Online Boarding', 'Gate Location',\n",
            "       'On-board Service', 'Seat Comfort', 'Leg Room Service', 'Cleanliness',\n",
            "       'Food and Drink', 'In-flight Service', 'In-flight Wifi Service',\n",
            "       'In-flight Entertainment', 'Baggage Handling', 'Satisfaction'],\n",
            "      dtype='object')\n"
          ]
        }
      ]
    },
    {
      "cell_type": "code",
      "source": [
        "# Test Etme Kısmı\n",
        "sample_passenger = {\n",
        "    'Gender': ['Female'],\n",
        "    'Age': [50],\n",
        "    'Customer Type': ['Returning'],\n",
        "    'Class': ['Economy'],\n",
        "    'Flight Distance': [1500],\n",
        "    'Departure Delay': [10],\n",
        "    'Arrival Delay': [5],\n",
        "    'Departure and Arrival Time Convenience': [4],\n",
        "    'Ease of Online Booking': [3],\n",
        "    'Check-in Service': [5],\n",
        "    'Online Boarding': [4],\n",
        "    'Gate Location': [2],\n",
        "    'On-board Service': [4],\n",
        "    'Seat Comfort': [3],\n",
        "    'Leg Room Service': [4],\n",
        "    'Cleanliness': [1],\n",
        "    'Food and Drink': [3],\n",
        "    'In-flight Service': [4],\n",
        "    'In-flight Wifi Service': [2],\n",
        "    'In-flight Entertainment': [3],\n",
        "    'Baggage Handling': [15],\n",
        "    'Type of Travel': [\"Personal Travel\"],\n",
        "    'Travel with Children': [1]\n",
        "}\n",
        "\n",
        "\n",
        "\n",
        "# Yeniden sample_passanger_df DataFrame oluşturuyoruz.\n",
        "sample_passenger_df = pd.DataFrame(sample_passenger)\n",
        "\n",
        "# Kategorik değişkenleri kodluyoruz\n",
        "sample_passenger_df[\"Gender\"] = sample_passenger_df[\"Gender\"].map({\"Female\":0,\"Male\":1})\n",
        "sample_passenger_df[\"Customer Type\"] = sample_passenger_df[\"Customer Type\"].map({\"Returning\":0,\"First-time\":1})\n",
        "sample_passenger_df[\"Class\"] = sample_passenger_df[\"Class\"].map({\"Business\":0,\"Economy\":1,\"Economy Plus\":2})\n",
        "sample_passenger_df[\"Type of Travel\"] = sample_passenger_df[\"Type of Travel\"].map({\"Personal Travel\":0,\"Business travel\":1})\n",
        "\n",
        "# Numpy dizisine dönüştürüyoruz.\n",
        "degerler = np.array(sample_passenger_df)\n",
        "\n",
        "\n",
        "\n",
        "# Tahmin Yapma\n",
        "sonuc = model.predict(degerler)\n",
        "\n",
        "print(sonuc)"
      ],
      "metadata": {
        "colab": {
          "base_uri": "https://localhost:8080/"
        },
        "id": "ac9CqLW6iVdo",
        "outputId": "d35de249-e521-4694-d303-24d1c0565be3"
      },
      "execution_count": null,
      "outputs": [
        {
          "output_type": "stream",
          "name": "stdout",
          "text": [
            "[1]\n"
          ]
        },
        {
          "output_type": "stream",
          "name": "stderr",
          "text": [
            "/usr/local/lib/python3.10/dist-packages/sklearn/base.py:439: UserWarning: X does not have valid feature names, but LogisticRegression was fitted with feature names\n",
            "  warnings.warn(\n"
          ]
        }
      ]
    },
    {
      "cell_type": "markdown",
      "source": [
        "**YOUTUBE VİDEO LİNK: https://youtu.be/n9xdBJPjMzo**"
      ],
      "metadata": {
        "id": "JLPQcVoVXOUA"
      }
    }
  ]
}